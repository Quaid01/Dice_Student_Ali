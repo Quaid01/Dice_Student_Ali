{
 "cells": [
  {
   "cell_type": "markdown",
   "metadata": {},
   "source": [
    "# Spectral properties of small graphs"
   ]
  },
  {
   "cell_type": "code",
   "execution_count": null,
   "metadata": {},
   "outputs": [],
   "source": [
    "using LinearAlgebra\n",
    "using Arpack\n",
    "using LaTeXStrings\n",
    "using SparseArrays"
   ]
  },
  {
   "cell_type": "code",
   "execution_count": null,
   "metadata": {
    "jupyter": {
     "source_hidden": true
    },
    "tags": []
   },
   "outputs": [],
   "source": [
    "using Plots\n",
    "using GraphPlot\n",
    "using GraphRecipes\n",
    "using LightGraphs"
   ]
  },
  {
   "cell_type": "code",
   "execution_count": null,
   "metadata": {},
   "outputs": [],
   "source": [
    "include(\"../../dev/dice_library.jl\")"
   ]
  },
  {
   "cell_type": "code",
   "execution_count": null,
   "metadata": {
    "tags": []
   },
   "outputs": [],
   "source": [
    "function spectral_process(graph)\n",
    "    Nvert = nv(graph)\n",
    "    Nedge = sum(degree(graph))/2\n",
    "    avdeg = 2Nedge/Nvert\n",
    "    \n",
    "    numb = 2^(Nvert - 1)\n",
    "    maxs = zeros(numb)\n",
    "    mins = zeros(numb)\n",
    "    cuts = zeros(numb)\n",
    "    bnds = zeros(numb)\n",
    "    \n",
    "    maxcut = 0\n",
    "    maxconf = 0\n",
    "    for i in 1:numb\n",
    "        conf = DyNN.number_to_conf(i, Nvert)\n",
    "        curcut = DyNN.cut(graph, conf)\n",
    "        cuts[i] = curcut\n",
    "        bnds[i] = DyNN.conf_decay(graph, conf)[1]\n",
    "        if curcut > maxcut\n",
    "            maxcut = curcut\n",
    "            maxconf = i\n",
    "        end\n",
    "     end\n",
    "\n",
    "    return (cuts, bnds)\n",
    "end"
   ]
  },
  {
   "cell_type": "code",
   "execution_count": null,
   "metadata": {
    "tags": []
   },
   "outputs": [],
   "source": [
    "function maxk(a, k)\n",
    "    b = partialsortperm(a, 1:k, rev=true)\n",
    "    return collect(zip(b, a[b]))\n",
    "end"
   ]
  },
  {
   "cell_type": "code",
   "execution_count": null,
   "metadata": {},
   "outputs": [],
   "source": [
    "nit = 10000\n",
    "\n",
    "N = 16\n",
    "p = 0.7\n",
    "\n",
    "k = 15\n",
    "\n",
    "bestcuts7 = zeros(nit)\n",
    "bounds7 = zeros(nit)\n",
    "gaps7 = zeros(nit)\n",
    "queues7 = zeros(nit)\n",
    "\n",
    "for i in 1:nit\n",
    "#    println(\"\\n *************** \\n\")\n",
    "    print(\"$i \\r\")\n",
    "    G = DyNN.get_connected(N, p)\n",
    "    (cs, bs) = spectral_process(G)\n",
    "    \n",
    "    bestcuts7[i] = maximum(cs)\n",
    "        \n",
    "    indcuts = findall(cs .== bestcuts7[i])   # looking for the most stable best cut\n",
    "    bounds7[i], = findmin(bs[indcuts])\n",
    "    \n",
    "    qs = findall(bs .< bounds7[i])\n",
    "    queues7[i] = length(qs)\n",
    "    \n",
    "    if queues7[i] > 0\n",
    "        lbs = bs[qs] .- bounds7[i]\n",
    "        gaps7[i] = minimum(lbs)\n",
    "    else\n",
    "        bnds = maxk(-bs, 2)\n",
    "        gaps7[i] = bs[bnds[2][1]] - bounds7[i]\n",
    "    end\n",
    "end\n",
    "\n",
    "spb = sortperm(bounds7)\n",
    "p1 = plot(bestcuts7[spb], markershape = :circle, markersize = 2, labels = false)\n",
    "p2 = plot(bounds7[spb], markershape = :circle, markersize = 2, labels = false)\n",
    "p3 =  plot(gaps7[spb], markershape = :circle, markersize = 2, labels = false)\n",
    "display(plot(p2, p1, p3, layout = (3, 1)))\n",
    "\n",
    "# hc = histogram(bestcuts, normalize=:pdf)\n",
    "# hb = histogram(bounds, normalize=:pdf)\n",
    "hg = histogram(gaps7, normalize=:pdf)\n",
    "display(plot(hg))"
   ]
  },
  {
   "cell_type": "code",
   "execution_count": null,
   "metadata": {},
   "outputs": [],
   "source": [
    "spb = sortperm(bounds7)\n",
    "p1 = scatter(bestcuts7[spb], markershape = :circle, markersize = 2, labels = false, ylab=\"Max.cut\", guidefontsize = 18, tickfontsize = 16)\n",
    "p2 = scatter(bounds7[spb], markershape = :circle, markersize = 2, labels = false, ylab=\"Instability\", guidefontsize = 18, tickfontsize = 16)\n",
    "p3 =  scatter(gaps7[spb], markershape = :circle, markersize = 2, labels = false, ylab=\"Sp.sep.\", guidefontsize = 18, tickfontsize = 16)\n",
    "display(plot(p2, p1, p3, layout = (3, 1), size = (655, 800)))\n",
    "savefig(\"gaps-16-7.png\")"
   ]
  },
  {
   "cell_type": "code",
   "execution_count": null,
   "metadata": {},
   "outputs": [],
   "source": [
    "hg = histogram(gaps7, normalize=:pdf, labels = false, xlab = \"Spectral separation\", ylab=\"Probability\", guidefontsize = 22, tickfontsize = 19)\n",
    "display(plot(hg, size=(700,1000)))\n",
    "savefig(\"histo-16-7.png\")"
   ]
  },
  {
   "cell_type": "markdown",
   "metadata": {},
   "source": [
    "Bonus: instabilities "
   ]
  },
  {
   "cell_type": "code",
   "execution_count": null,
   "metadata": {},
   "outputs": [],
   "source": [
    "plot(bounds7, gaps7, seriestype=:scatter)"
   ]
  },
  {
   "cell_type": "code",
   "execution_count": null,
   "metadata": {},
   "outputs": [],
   "source": [
    "plot(bounds7 .+ gaps7, seriestype=:scatter)"
   ]
  },
  {
   "cell_type": "code",
   "execution_count": null,
   "metadata": {},
   "outputs": [],
   "source": [
    "hg = histogram(gaps7.+bounds7, normalize=:pdf, labels = false)"
   ]
  }
 ],
 "metadata": {
  "kernelspec": {
   "display_name": "Julia 1.6.3",
   "language": "julia",
   "name": "julia-1.6"
  },
  "language_info": {
   "file_extension": ".jl",
   "mimetype": "application/julia",
   "name": "julia",
   "version": "1.6.3"
  }
 },
 "nbformat": 4,
 "nbformat_minor": 4
}
