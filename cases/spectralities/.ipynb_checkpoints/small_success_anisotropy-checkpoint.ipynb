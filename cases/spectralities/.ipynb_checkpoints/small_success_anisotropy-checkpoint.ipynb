{
 "cells": [
  {
   "cell_type": "markdown",
   "metadata": {},
   "source": [
    "using LightGraphs\n",
    "using GraphPlot\n",
    "using GraphRecipes\n",
    "using Plots\n",
    "using Printf"
   ]
  },
  {
   "cell_type": "code",
   "execution_count": null,
   "metadata": {},
   "outputs": [],
   "source": [
    "using LaTeXStrings"
   ]
  },
  {
   "cell_type": "code",
   "execution_count": null,
   "metadata": {},
   "outputs": [],
   "source": [
    "# Requires the development version\n",
    "include(\"../../dev/dice_library.jl\")"
   ]
  },
  {
   "cell_type": "code",
   "execution_count": null,
   "metadata": {},
   "outputs": [],
   "source": [
    "G8 = SimpleGraph(8)\n",
    "add_edge!(G8, 1, 2)\n",
    "add_edge!(G8, 2, 3)\n",
    "add_edge!(G8, 3, 4)\n",
    "add_edge!(G8, 4, 5)\n",
    "add_edge!(G8, 5, 6)\n",
    "add_edge!(G8, 6, 7)\n",
    "add_edge!(G8, 7, 8)\n",
    "add_edge!(G8, 1, 8)\n",
    "add_edge!(G8, 1, 5)\n",
    "add_edge!(G8, 2, 6)\n",
    "add_edge!(G8, 3, 7)\n",
    "add_edge!(G8, 4, 8)\n",
    "\n",
    "p=graphplot(G8, nodesize = 0.05, nodeshape=:circle, curves=false, nodecolor=:black)"
   ]
  },
  {
   "cell_type": "code",
   "execution_count": null,
   "metadata": {
    "tags": []
   },
   "outputs": [],
   "source": [
    "G = G8\n",
    "mtds = Dice.sine\n",
    "#mtds = DyNN.piecewise\n",
    "scale = 0.125/nv(G)\n",
    "tmax = 125\n",
    "\n",
    "Ksran = collect(0:0.025:4)\n",
    "MM = length(Ksran)\n",
    "\n",
    "Nrep = 10000\n",
    "\n",
    "probs = zeros(MM)\n",
    "\n",
    "for j in 1:MM\n",
    "    print(\"\\r$j\")\n",
    "    Ks = Ksran[j]\n",
    "\n",
    "    count_best = 0\n",
    "\n",
    "    for i in 1:Nrep\n",
    "        V3 = Dice.get_initial(nv(G),(-0.15,0.55));\n",
    "        V3t = Dice.propagate(G, mtds, Ks, scale/1, tmax, V3);\n",
    "        fconf = Dice.extract_configuration(Dice.roundup(V3t[:, end]), 0)\n",
    "        curcut = Dice.cut(G, fconf)\n",
    "        if curcut == 10\n",
    "            count_best += 1\n",
    "        end\n",
    "    end\n",
    "    println(\"\\nFor Ks = $Ks we've got $count_best successes out of $Nrep\")\n",
    "    probs[j] = count_best/Nrep\n",
    "end\n",
    "plot(Ksran, probs)"
   ]
  },
  {
   "cell_type": "code",
   "execution_count": null,
   "metadata": {},
   "outputs": [],
   "source": [
    "# The dependence of the success probability on the anisotropy constant\n",
    "gf = 24\n",
    "tf = 22\n",
    "xll = L\"$K_s/K$\"\n",
    "yll = \"Probability\"\n",
    "display(plot(Ksran, probs, linewidth = 5, guidefontsize = gf, tickfontsize = tf, legends = false,size=(400,400))) #, xlab = xll, ylab = yll)\n",
    "savefig(\"psucc_ks.png\")"
   ]
  },
  {
   "cell_type": "code",
   "execution_count": null,
   "metadata": {},
   "outputs": [],
   "source": [
    "# Three dynamical regimes\n",
    "# To get these plots, the code above should be changed manually to get V1t, V2t, V3t for different anisotropies\n",
    "xll = \"Time (arb.units)\"\n",
    "yll = L\"$\\theta/2\\pi$\"\n",
    "gf = 20\n",
    "tf = 18\n",
    "lw = 3\n",
    "p1=plot(1 .*(1:tmax), (V1t .+ 0.25)', legends = false, ylim = (-0.25, 0.75), guidefontsize = gf, tickfontsize = tf, linewidth = lw)\n",
    "p2=plot(1 .*(1:tmax), (V2t .+ 0.25)', legends = false, ylim = (-0.25, 0.75), guidefontsize = gf, tickfontsize = tf, linewidth = lw)\n",
    "p3=plot(1 .*(1:tmax), (V3t .+ 0.25)', legends = false, ylim = (-0.25, 0.75), guidefontsize = gf, tickfontsize = tf, linewidth = lw)\n",
    "display(plot(p1, p2, p3, layout=(1,3), size = (1100, 600)))\n",
    "savefig(\"three-regimes.png\")"
   ]
  },
  {
   "cell_type": "code",
   "execution_count": null,
   "metadata": {
    "tags": []
   },
   "outputs": [],
   "source": [
    "MM = size(V1t)[2]\n",
    "\n",
    "VD = zeros(1, MM)\n",
    "HD = zeros(1, MM)\n",
    "\n",
    "HI1  = zeros(1, MM)\n",
    "HI2  = zeros(1, MM)\n",
    "\n",
    "for i in 1:MM\n",
    "    distri1 = Dice.roundup(V1t[:,i])\n",
    "    distri2 = Dice.roundup(V2t[:,i])\n",
    "    \n",
    "    VD[i] = VectorD(V1t[:,i], V2t[:,i])\n",
    "    \n",
    "    conf1 = Dice.extract_configuration(distri1, 0.25)\n",
    "    conf2 = Dice.extract_configuration(distri2, 0.25)\n",
    "    \n",
    "    HD[i] = Dice.HammingD(conf1, conf2)\n",
    "    \n",
    "    HI1[i] = Dice.cut(G, conf1)\n",
    "    HI2[i] = Dice.cut(G, conf2)    \n",
    "end\n",
    "\n",
    "pvd = plot(1:MM, VD')\n",
    "display(pvd)\n",
    "\n",
    "phd = plot(1:MM, HD')\n",
    "display(phd)\n",
    "\n",
    "plot(1:MM, HI1', lc = :blue, label = false)\n",
    "pc2 = plot!(1:MM, HI2', lc = :red, label = false)\n",
    "display(pc2)\n",
    "\n",
    "println(\"The pivot's best cut:  \", maximum(HI1), \" its final value: \", HI1[end])\n",
    "println(\"The probe's best cut:  \", maximum(HI2), \" its final value: \", HI2[end])"
   ]
  },
  {
   "cell_type": "code",
   "execution_count": null,
   "metadata": {},
   "outputs": [],
   "source": []
  }
 ],
 "metadata": {
  "kernelspec": {
   "display_name": "Julia 1.6.2",
   "language": "julia",
   "name": "julia-1.6"
  },
  "language_info": {
   "file_extension": ".jl",
   "mimetype": "application/julia",
   "name": "julia",
   "version": "1.6.2"
  }
 },
 "nbformat": 4,
 "nbformat_minor": 4
}
