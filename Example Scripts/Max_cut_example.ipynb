{
 "cells": [
  {
   "cell_type": "code",
   "execution_count": 15,
   "id": "206d9d4e-7aec-44da-a736-b560c7cc4093",
   "metadata": {},
   "outputs": [],
   "source": [
    "# Libraries used\n",
    "\n",
    "using Graphs\n",
    "using SimpleWeightedGraphs\n",
    "using Dice"
   ]
  },
  {
   "cell_type": "code",
   "execution_count": 73,
   "id": "939318a9-2b8a-4028-b4a3-6f9a0fcecae4",
   "metadata": {},
   "outputs": [
    {
     "data": {
      "text/plain": [
       "19-element Vector{Graphs.SimpleGraphs.SimpleEdge{Int64}}:\n",
       " Edge 1 => 2\n",
       " Edge 1 => 4\n",
       " Edge 1 => 9\n",
       " Edge 1 => 10\n",
       " Edge 2 => 3\n",
       " Edge 2 => 5\n",
       " Edge 2 => 10\n",
       " Edge 3 => 4\n",
       " Edge 3 => 6\n",
       " Edge 4 => 5\n",
       " Edge 4 => 7\n",
       " Edge 5 => 6\n",
       " Edge 5 => 8\n",
       " Edge 6 => 7\n",
       " Edge 6 => 9\n",
       " Edge 7 => 8\n",
       " Edge 7 => 10\n",
       " Edge 8 => 9\n",
       " Edge 9 => 10"
      ]
     },
     "execution_count": 73,
     "metadata": {},
     "output_type": "execute_result"
    }
   ],
   "source": [
    "# Making Graph\n",
    "\n",
    "nodes = 10\n",
    "graph = Graphs.Graph(nodes)\n",
    "\n",
    "# Adding Edges\n",
    "for i in range(1,nodes)\n",
    "    add_edge!(graph,i,i%10 +1)\n",
    "    add_edge!(graph,i,(i+2)%11+1)\n",
    "end\n",
    "\n",
    "# Display all edges \n",
    "collect(Graphs.edges(graph))"
   ]
  },
  {
   "cell_type": "code",
   "execution_count": 70,
   "id": "f9fe662f-a027-4094-bb08-38b5b9d5e6cd",
   "metadata": {},
   "outputs": [
    {
     "name": "stdout",
     "output_type": "stream",
     "text": [
      "10"
     ]
    },
    {
     "data": {
      "text/plain": [
       "(Int8[1, 1, 1, 1, -1, 1, -1, -1, 1, -1], [-0.3434757153542942, -0.41841509898485096, -0.32247331886588726, -0.526702214164593, 0.08923145476833394, -0.054358885376385446, -0.05095547387413979, -0.616822905083438, 0.8474485791248549, 0.6377403315832935])"
      ]
     },
     "execution_count": 70,
     "metadata": {},
     "output_type": "execute_result"
    }
   ],
   "source": [
    "# Making model\n",
    "# Stop time in model units\n",
    "total_time = 4.4\n",
    "# Number of timesteps\n",
    "num_steps = 100\n",
    "delta_t = total_time/num_steps\n",
    "model = Dice.Model(graph, Dice.model_2_hybrid_coupling, delta_t)\n",
    "\n",
    "num_vertices = Graphs.nv(model.graph)\n",
    "print(num_vertices)\n",
    "state = Dice.get_random_hybrid(num_vertices,2.0)"
   ]
  },
  {
   "cell_type": "code",
   "execution_count": 72,
   "id": "2c1be2c6-b824-4876-8ccf-d35399536244",
   "metadata": {},
   "outputs": [
    {
     "name": "stdout",
     "output_type": "stream",
     "text": [
      "state[1] = Int8[-1, 1, -1, 1, -1, 1, -1, 1, -1, 1]\n",
      "Final Max-Cut state: Int8[-1, 1, -1, 1, -1, 1, -1, 1, -1, 1]19"
     ]
    },
    {
     "data": {
      "text/plain": [
       "17"
      ]
     },
     "execution_count": 72,
     "metadata": {},
     "output_type": "execute_result"
    }
   ],
   "source": [
    "@show state[1]\n",
    "state = Dice.propagate(model, num_steps, state)\n",
    "spin_state = state[1]\n",
    "\n",
    "#Prints final spin state\n",
    "print(\"Final Max-Cut state: $spin_state\")\n",
    "\n",
    "#Prints the number of edges and the number of cut edges\n",
    "print(ne(graph))\n",
    "cut(graph,spin_state)"
   ]
  }
 ],
 "metadata": {
  "kernelspec": {
   "display_name": "Julia 1.11.6",
   "language": "julia",
   "name": "julia-1.11"
  },
  "language_info": {
   "file_extension": ".jl",
   "mimetype": "application/julia",
   "name": "julia",
   "version": "1.11.6"
  }
 },
 "nbformat": 4,
 "nbformat_minor": 5
}
